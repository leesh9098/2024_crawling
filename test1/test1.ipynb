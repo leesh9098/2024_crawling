{
 "cells": [
  {
   "cell_type": "code",
   "execution_count": 28,
   "metadata": {},
   "outputs": [],
   "source": [
    "import requests\n",
    "from bs4 import BeautifulSoup\n",
    "import pandas as pd\n",
    "\n",
    "# 데이터를 저장할 빈 배열\n",
    "data = []\n",
    "\n",
    "# 크롤링할 페이지 수를 사용자에게 입력받기\n",
    "page = int(input(\"몇 페이지까지 크롤링 할까요? \"))\n",
    "\n",
    "# 검색어를 사용자에게 입력받기\n",
    "searchQuery = input(\"검색어를 입력하세요\")\n",
    "\n",
    "\n",
    "# 사용자가 입력한 페이지 수만큼 반복\n",
    "for i in range(1, page+1):\n",
    "    # 네이트 뉴스 검색 페이지에 접근\n",
    "    response = requests.get(f\"https://news.nate.com/search?q={searchQuery}&page={i}\")\n",
    "    # HTML 코드를 파싱\n",
    "    html = response.text\n",
    "    soup = BeautifulSoup(html, 'html.parser')\n",
    "    # 뉴스 기사 리스트를 선택\n",
    "    posts = soup.select(\".search-list > li\")\n",
    "    # 각 뉴스 기사에 대해 반복\n",
    "    for post in posts:\n",
    "        # 뉴스 기사 제목을 추출\n",
    "        title = post.select_one(\".thumb-wrap > .info > .info > .tit\")\n",
    "        # 에러 처리\n",
    "        if title is None:\n",
    "            continue\n",
    "        # 뉴스 기사 링크를 추출\n",
    "        link = post.select_one(\".thumb-wrap\")\n",
    "        # 에러 처리\n",
    "        if link is None:\n",
    "            continue\n",
    "        # 뉴스 기사 언론사를 추출\n",
    "        source = post.select_one(\".time\")\n",
    "        # 에러 처리\n",
    "        if source is None:\n",
    "            continue\n",
    "        # 뉴스 기사 작성날짜를 추출\n",
    "        date = source.text.strip().split('\\n')[1].strip()\n",
    "        # 추출한 데이터를 배열에 추가\n",
    "        data.append([title.text.strip(), link.attrs['href'].strip().replace('//', 'https://'), source.text.strip().split('\\n')[0].strip(), date])\n",
    "\n",
    "    # 다음 버튼이 없는 경우 중지    \n",
    "    if soup.find('a', {'title': '다음'}) == None:\n",
    "        break\n",
    "\n",
    "# pandas 프레임으로 저장\n",
    "df = pd.DataFrame(data, columns=['제목', '링크', '언론사', '작성날짜'])\n",
    "df.to_excel(\"nate_news.xlsx\", index=False)"
   ]
  },
  {
   "cell_type": "code",
   "execution_count": null,
   "metadata": {},
   "outputs": [],
   "source": []
  }
 ],
 "metadata": {
  "kernelspec": {
   "display_name": "venv",
   "language": "python",
   "name": "python3"
  },
  "language_info": {
   "codemirror_mode": {
    "name": "ipython",
    "version": 3
   },
   "file_extension": ".py",
   "mimetype": "text/x-python",
   "name": "python",
   "nbconvert_exporter": "python",
   "pygments_lexer": "ipython3",
   "version": "3.12.3"
  }
 },
 "nbformat": 4,
 "nbformat_minor": 2
}
