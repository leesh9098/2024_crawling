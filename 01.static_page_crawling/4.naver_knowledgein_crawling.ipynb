{
 "cells": [
  {
   "cell_type": "code",
   "execution_count": 1,
   "metadata": {},
   "outputs": [],
   "source": [
    "import requests\n",
    "from bs4 import BeautifulSoup\n",
    "\n",
    "response = requests.get(\"https://kin.naver.com/search/list.naver?query=대림대\")\n",
    "html = response.text\n",
    "soup = BeautifulSoup(html, 'html.parser')"
   ]
  },
  {
   "cell_type": "code",
   "execution_count": 3,
   "metadata": {},
   "outputs": [
    {
     "data": {
      "text/plain": [
       "<a class=\"_nclicks:kin.txt _searchListTitleAnchor\" href=\"https://kin.naver.com/qna/detail.naver?d1id=5&amp;dirId=51002&amp;docId=474884125&amp;qb=64yA66a864yA&amp;enc=utf8§ion=kin.qna_ency&amp;rank=1&amp;search_sort=0&amp;spq=0\" target=\"_blank\"><b>대림대</b> 스포츠재활학과 전망이 어떤가요?</a>"
      ]
     },
     "execution_count": 3,
     "metadata": {},
     "output_type": "execute_result"
    }
   ],
   "source": [
    "soup.select_one(\"._nclicks\\\\:kin\\\\.txt\")"
   ]
  },
  {
   "cell_type": "code",
   "execution_count": 4,
   "metadata": {},
   "outputs": [
    {
     "data": {
      "text/plain": [
       "<a class=\"_nclicks:kin.txt _searchListTitleAnchor\" href=\"https://kin.naver.com/qna/detail.naver?d1id=5&amp;dirId=51002&amp;docId=474884125&amp;qb=64yA66a864yA&amp;enc=utf8§ion=kin.qna_ency&amp;rank=1&amp;search_sort=0&amp;spq=0\" target=\"_blank\"><b>대림대</b> 스포츠재활학과 전망이 어떤가요?</a>"
      ]
     },
     "execution_count": 4,
     "metadata": {},
     "output_type": "execute_result"
    }
   ],
   "source": [
    "soup.select_one(\"._searchListTitleAnchor\")"
   ]
  },
  {
   "cell_type": "code",
   "execution_count": 5,
   "metadata": {},
   "outputs": [
    {
     "data": {
      "text/plain": [
       "<a class=\"_nclicks:kin.txt _searchListTitleAnchor\" href=\"https://kin.naver.com/qna/detail.naver?d1id=5&amp;dirId=51002&amp;docId=474884125&amp;qb=64yA66a864yA&amp;enc=utf8§ion=kin.qna_ency&amp;rank=1&amp;search_sort=0&amp;spq=0\" target=\"_blank\"><b>대림대</b> 스포츠재활학과 전망이 어떤가요?</a>"
      ]
     },
     "execution_count": 5,
     "metadata": {},
     "output_type": "execute_result"
    }
   ],
   "source": [
    "soup.select_one(\"._nclicks\\\\:kin\\\\.txt._searchListTitleAnchor\")"
   ]
  },
  {
   "cell_type": "code",
   "execution_count": 9,
   "metadata": {},
   "outputs": [
    {
     "data": {
      "text/plain": [
       "'대림대 스포츠재활학과 전망이 어떤가요?'"
      ]
     },
     "execution_count": 9,
     "metadata": {},
     "output_type": "execute_result"
    }
   ],
   "source": [
    "# 제목\n",
    "soup.select_one(\"._nclicks\\\\:kin\\\\.txt\").text"
   ]
  },
  {
   "cell_type": "code",
   "execution_count": 7,
   "metadata": {},
   "outputs": [
    {
     "data": {
      "text/plain": [
       "'https://kin.naver.com/qna/detail.naver?d1id=5&dirId=51002&docId=474884125&qb=64yA66a864yA&enc=utf8§ion=kin.qna_ency&rank=1&search_sort=0&spq=0'"
      ]
     },
     "execution_count": 7,
     "metadata": {},
     "output_type": "execute_result"
    }
   ],
   "source": [
    "# 링크\n",
    "soup.select_one(\"._nclicks\\\\:kin\\\\.txt\").attrs['href']"
   ]
  },
  {
   "cell_type": "code",
   "execution_count": 10,
   "metadata": {},
   "outputs": [
    {
     "data": {
      "text/plain": [
       "'2024.09.09.'"
      ]
     },
     "execution_count": 10,
     "metadata": {},
     "output_type": "execute_result"
    }
   ],
   "source": [
    "# 날짜\n",
    "soup.select_one(\".txt_inline\").text"
   ]
  },
  {
   "cell_type": "code",
   "execution_count": 15,
   "metadata": {},
   "outputs": [
    {
     "data": {
      "text/plain": [
       "'스포츠경기'"
      ]
     },
     "execution_count": 15,
     "metadata": {},
     "output_type": "execute_result"
    }
   ],
   "source": [
    "# 카테고리\n",
    "soup.select_one(\".txt_block > a:nth-of-type(2)\").text\n",
    "# soup.select_one(\".txt_g1._nclicks\\\\:kin\\\\.cat2\").text"
   ]
  },
  {
   "cell_type": "code",
   "execution_count": 16,
   "metadata": {},
   "outputs": [
    {
     "data": {
      "text/plain": [
       "'답변수 2'"
      ]
     },
     "execution_count": 16,
     "metadata": {},
     "output_type": "execute_result"
    }
   ],
   "source": [
    "# 답변 수\n",
    "soup.select_one(\".txt_block > span:nth-of-type(2)\").text"
   ]
  },
  {
   "cell_type": "code",
   "execution_count": 17,
   "metadata": {},
   "outputs": [
    {
     "data": {
      "text/plain": [
       "'2'"
      ]
     },
     "execution_count": 17,
     "metadata": {},
     "output_type": "execute_result"
    }
   ],
   "source": [
    "# 답변 수 (숫자만)\n",
    "soup.select_one(\".txt_block > span:nth-of-type(2)\").text.split(\"답변수\")[1].strip()"
   ]
  },
  {
   "cell_type": "code",
   "execution_count": 18,
   "metadata": {},
   "outputs": [
    {
     "name": "stdout",
     "output_type": "stream",
     "text": [
      "대림대 스포츠재활학과 전망이 어떤가요? https://kin.naver.com/qna/detail.naver?d1id=5&dirId=51002&docId=474884125&qb=64yA66a864yA&enc=utf8§ion=kin.qna_ency&rank=1&search_sort=0&spq=0 2024.09.09. 스포츠경기 2\n",
      "대림대 제과제빵과는 커피도 배울 수...  https://kin.naver.com/qna/detail.naver?d1id=11&dirId=110704&docId=473995852&qb=64yA66a864yA&enc=utf8§ion=kin.qna_ency&rank=2&search_sort=0&spq=0 2024.08.15. 직업교육 2\n",
      "대림대 언어치료학과는 몇 년 과정인가요? https://kin.naver.com/qna/detail.naver?d1id=11&dirId=110408&docId=472594005&qb=64yA66a864yA&enc=utf8§ion=kin.qna_ency&rank=3&search_sort=0&spq=0 2024.07.17. 대학 입시, 진학 3\n",
      "대림대 스포츠재활학부 수시 면접 보나요? https://kin.naver.com/qna/detail.naver?d1id=11&dirId=110408&docId=473888987&qb=64yA66a864yA&enc=utf8§ion=kin.qna_ency&rank=4&search_sort=0&spq=0 2024.08.13. 대학 입시, 진학 1\n",
      "대림대 제과제빵 https://kin.naver.com/qna/detail.naver?d1id=4&dirId=40606&docId=473272482&qb=64yA66a864yA&enc=utf8§ion=kin.qna_ency&rank=5&search_sort=0&spq=0 2024.07.31. 관광, 요식업, 스포츠 1\n",
      "대림대 언어치료학과 치료 실습 시설...  https://kin.naver.com/qna/detail.naver?d1id=11&dirId=110408&docId=473316057&qb=64yA66a864yA&enc=utf8§ion=kin.qna_ency&rank=6&search_sort=0&spq=0 2024.08.01. 대학 입시, 진학 2\n",
      "대림대 유아교육과 https://kin.naver.com/qna/detail.naver?d1id=11&dirId=110102&docId=475728162&qb=64yA66a864yA&enc=utf8§ion=kin.qna_ency&rank=7&search_sort=0&spq=0 2024.09.23. 유아교육기관 2\n",
      "대림대 스포츠재활학부 가면 어떤 자격증...  https://kin.naver.com/qna/detail.naver?d1id=11&dirId=110408&docId=472818078&qb=64yA66a864yA&enc=utf8§ion=kin.qna_ency&rank=8&search_sort=0&spq=0 2024.07.22. 대학 입시, 진학 4\n",
      "대림대 언어치료학과는 2년 과정인가요? https://kin.naver.com/qna/detail.naver?d1id=11&dirId=110408&docId=474590235&qb=64yA66a864yA&enc=utf8§ion=kin.qna_ency&rank=9&search_sort=0&spq=0 2024.08.28. 대학 입시, 진학 2\n",
      "대림대 사무행정학과가면 어떤 자격증을...  https://kin.naver.com/qna/detail.naver?d1id=11&dirId=11050402&docId=472992436&qb=64yA66a864yA&enc=utf8§ion=kin.qna_ency&rank=10&search_sort=0&spq=0 2024.07.25. 사회과학대학 2\n"
     ]
    }
   ],
   "source": [
    "posts = soup.select(\".basic1 > li\")\n",
    "\n",
    "for post in posts:\n",
    "    title = post.select_one(\"._nclicks\\\\:kin\\\\.txt\").text\n",
    "    link = post.select_one(\"._nclicks\\\\:kin\\\\.txt\").attrs['href']\n",
    "    date = post.select_one(\".txt_inline\").text\n",
    "    category = post.select_one(\".txt_block > a:nth-of-type(2)\").text\n",
    "    answerCount = post.select_one(\".txt_block > span:nth-of-type(2)\").text.split(\"답변수\")[1].strip()\n",
    "    print(title, link, date, category, answerCount)"
   ]
  },
  {
   "cell_type": "code",
   "execution_count": 19,
   "metadata": {},
   "outputs": [
    {
     "name": "stdout",
     "output_type": "stream",
     "text": [
      "대림대 스포츠재활학과 전망이 어떤가요? https://kin.naver.com/qna/detail.naver?d1id=5&dirId=51002&docId=474884125&qb=64yA66a864yA&enc=utf8§ion=kin.qna_ency&rank=1&search_sort=0&spq=0 2024.09.09. 스포츠경기 2\n",
      "대림대 제과제빵과는 커피도 배울 수...  https://kin.naver.com/qna/detail.naver?d1id=11&dirId=110704&docId=473995852&qb=64yA66a864yA&enc=utf8§ion=kin.qna_ency&rank=2&search_sort=0&spq=0 2024.08.15. 직업교육 2\n",
      "대림대 언어치료학과는 몇 년 과정인가요? https://kin.naver.com/qna/detail.naver?d1id=11&dirId=110408&docId=472594005&qb=64yA66a864yA&enc=utf8§ion=kin.qna_ency&rank=3&search_sort=0&spq=0 2024.07.17. 대학 입시, 진학 3\n",
      "대림대 스포츠재활학부 수시 면접 보나요? https://kin.naver.com/qna/detail.naver?d1id=11&dirId=110408&docId=473888987&qb=64yA66a864yA&enc=utf8§ion=kin.qna_ency&rank=4&search_sort=0&spq=0 2024.08.13. 대학 입시, 진학 1\n",
      "대림대 제과제빵 https://kin.naver.com/qna/detail.naver?d1id=4&dirId=40606&docId=473272482&qb=64yA66a864yA&enc=utf8§ion=kin.qna_ency&rank=5&search_sort=0&spq=0 2024.07.31. 관광, 요식업, 스포츠 1\n",
      "대림대 언어치료학과 치료 실습 시설...  https://kin.naver.com/qna/detail.naver?d1id=11&dirId=110408&docId=473316057&qb=64yA66a864yA&enc=utf8§ion=kin.qna_ency&rank=6&search_sort=0&spq=0 2024.08.01. 대학 입시, 진학 2\n",
      "대림대 유아교육과 https://kin.naver.com/qna/detail.naver?d1id=11&dirId=110102&docId=475728162&qb=64yA66a864yA&enc=utf8§ion=kin.qna_ency&rank=7&search_sort=0&spq=0 2024.09.23. 유아교육기관 2\n",
      "대림대 스포츠재활학부 가면 어떤 자격증...  https://kin.naver.com/qna/detail.naver?d1id=11&dirId=110408&docId=472818078&qb=64yA66a864yA&enc=utf8§ion=kin.qna_ency&rank=8&search_sort=0&spq=0 2024.07.22. 대학 입시, 진학 4\n",
      "대림대 언어치료학과는 2년 과정인가요? https://kin.naver.com/qna/detail.naver?d1id=11&dirId=110408&docId=474590235&qb=64yA66a864yA&enc=utf8§ion=kin.qna_ency&rank=9&search_sort=0&spq=0 2024.08.28. 대학 입시, 진학 2\n",
      "대림대 사무행정학과가면 어떤 자격증을...  https://kin.naver.com/qna/detail.naver?d1id=11&dirId=11050402&docId=472992436&qb=64yA66a864yA&enc=utf8§ion=kin.qna_ency&rank=10&search_sort=0&spq=0 2024.07.25. 사회과학대학 2\n",
      "대림대 미래자동차학부 학과 분위기는...  https://kin.naver.com/qna/detail.naver?d1id=11&dirId=110504&docId=473316163&qb=64yA66a864yA&enc=utf8§ion=kin.qna_ency&rank=11&search_sort=0&spq=0 2024.08.01. 대학학과정보 2\n",
      "대림대 호텔조리과 졸업 후 프랑스...  https://kin.naver.com/qna/detail.naver?d1id=11&dirId=110603&docId=475267483&qb=64yA66a864yA&enc=utf8§ion=kin.qna_ency&rank=12&search_sort=0&spq=0 2024.09.12. 워킹홀리데이, 해외인턴쉽 4\n",
      "대림대 바이오헬스케어과는 어떤 직업과...  https://kin.naver.com/qna/detail.naver?d1id=11&dirId=110408&docId=472547360&qb=64yA66a864yA&enc=utf8§ion=kin.qna_ency&rank=13&search_sort=0&spq=0 2024.07.16. 대학 입시, 진학 1\n",
      "대림대 복수지원 가능한가요? https://kin.naver.com/qna/detail.naver?d1id=11&dirId=110408&docId=475195553&qb=64yA66a864yA&enc=utf8§ion=kin.qna_ency&rank=14&search_sort=0&spq=0 2024.09.11. 대학 입시, 진학 1\n",
      "대림대 미래자동차학과 가고 싶은데 뭘...  https://kin.naver.com/qna/detail.naver?d1id=11&dirId=110408&docId=474590340&qb=64yA66a864yA&enc=utf8§ion=kin.qna_ency&rank=15&search_sort=0&spq=0 2024.08.29. 대학 입시, 진학 4\n",
      "대림대 유아교육과 지원하고 싶은데...  https://kin.naver.com/qna/detail.naver?d1id=11&dirId=11050402&docId=472695741&qb=64yA66a864yA&enc=utf8§ion=kin.qna_ency&rank=16&search_sort=0&spq=0 2024.07.19. 사회과학대학 3\n",
      "대림대 스포츠재활학과 인식이나...  https://kin.naver.com/qna/detail.naver?d1id=11&dirId=11050404&docId=474403977&qb=64yA66a864yA&enc=utf8§ion=kin.qna_ency&rank=17&search_sort=0&spq=0 2024.09.11. 기술과학대학 3\n",
      "대림대 스포츠재활학부 운동 특기 없이...  https://kin.naver.com/qna/detail.naver?d1id=11&dirId=110408&docId=473588686&qb=64yA66a864yA&enc=utf8§ion=kin.qna_ency&rank=18&search_sort=0&spq=0 2024.08.07. 대학 입시, 진학 2\n",
      "대림대 바이오헬스케어과는 졸업 후...  https://kin.naver.com/qna/detail.naver?d1id=11&dirId=110408&docId=473588548&qb=64yA66a864yA&enc=utf8§ion=kin.qna_ency&rank=19&search_sort=0&spq=0 2024.08.07. 대학 입시, 진학 4\n",
      "대림대 자동차학과 합격 할 수 있을까요? https://kin.naver.com/qna/detail.naver?d1id=11&dirId=110408&docId=475297059&qb=64yA66a864yA&enc=utf8§ion=kin.qna_ency&rank=20&search_sort=0&spq=0 2024.09.13. 대학 입시, 진학 1\n",
      "나사렛대vs백석대vs대림대 https://kin.naver.com/qna/detail.naver?d1id=11&dirId=11050402&docId=463269412&qb=64yA66a864yA&enc=utf8§ion=kin.qna_ency&rank=21&search_sort=0&spq=0 2024.07.08. 사회과학대학 5\n",
      "대림대 스포츠재활학부에 골프 특화...  https://kin.naver.com/qna/detail.naver?d1id=11&dirId=110408&docId=474252528&qb=64yA66a864yA&enc=utf8§ion=kin.qna_ency&rank=22&search_sort=0&spq=0 2024.08.21. 대학 입시, 진학 3\n",
      "대림대 건축과 남녀비율이 어떻게 되나요? https://kin.naver.com/qna/detail.naver?d1id=11&dirId=110504&docId=473200887&qb=64yA66a864yA&enc=utf8§ion=kin.qna_ency&rank=23&search_sort=0&spq=0 2024.07.30. 대학학과정보 1\n",
      "유아교육과 대림대vs서일대vs재능대vs...  https://kin.naver.com/qna/detail.naver?d1id=11&dirId=11050401&docId=475290998&qb=64yA66a864yA&enc=utf8§ion=kin.qna_ency&rank=24&search_sort=0&spq=0 2024.09.13. 인문과학대학 3\n",
      "대림대 유아교육과 다니시는 분 어떤가요? https://kin.naver.com/qna/detail.naver?d1id=11&dirId=110103&docId=474170787&qb=64yA66a864yA&enc=utf8§ion=kin.qna_ency&rank=25&search_sort=0&spq=0 2024.08.19. 유아교육제도 3\n",
      "대림대 스포츠재활학부 졸업 후 필라테스...  https://kin.naver.com/qna/detail.naver?d1id=7&dirId=70702&docId=475249751&qb=64yA66a864yA&enc=utf8§ion=kin.qna_ency&rank=26&search_sort=0&spq=0 2024.09.12. 요가, 필라테스 3\n",
      "대림대 미래자동차학부는 졸업 후 어디에...  https://kin.naver.com/qna/detail.naver?d1id=11&dirId=110408&docId=472547324&qb=64yA66a864yA&enc=utf8§ion=kin.qna_ency&rank=27&search_sort=0&spq=0 2024.07.16. 대학 입시, 진학 2\n",
      "대림대 스포츠재활과에 들어가려면...  https://kin.naver.com/qna/detail.naver?d1id=11&dirId=110408&docId=472547421&qb=64yA66a864yA&enc=utf8§ion=kin.qna_ency&rank=28&search_sort=0&spq=0 2024.07.16. 대학 입시, 진학 6\n",
      "대림대 바이오헬스케어과가 궁금합니다. https://kin.naver.com/qna/detail.naver?d1id=11&dirId=11050403&docId=473316368&qb=64yA66a864yA&enc=utf8§ion=kin.qna_ency&rank=29&search_sort=0&spq=0 2024.08.01. 자연과학대학 2\n",
      "대림대에서 편입할 수 있는 대학 https://kin.naver.com/qna/detail.naver?d1id=11&dirId=110408&docId=459141380&qb=64yA66a864yA&enc=utf8§ion=kin.qna_ency&rank=30&search_sort=0&spq=0 2023.11.24. 대학 입시, 진학 20\n"
     ]
    }
   ],
   "source": [
    "for i in range(1, 4):\n",
    "    response = requests.get(f\"https://kin.naver.com/search/list.naver?query=대림대&page={i}\")\n",
    "    html = response.text\n",
    "    soup = BeautifulSoup(html, 'html.parser')\n",
    "    posts = soup.select(\".basic1 > li\")\n",
    "\n",
    "    for post in posts:\n",
    "        title = post.select_one(\"._nclicks\\\\:kin\\\\.txt\").text\n",
    "        link = post.select_one(\"._nclicks\\\\:kin\\\\.txt\").attrs['href']\n",
    "        date = post.select_one(\".txt_inline\").text\n",
    "        category = post.select_one(\".txt_block > a:nth-of-type(2)\").text\n",
    "        answerCount = post.select_one(\".txt_block > span:nth-of-type(2)\").text.split(\"답변수\")[1].strip()\n",
    "        print(title, link, date, category, answerCount)"
   ]
  },
  {
   "cell_type": "code",
   "execution_count": 21,
   "metadata": {},
   "outputs": [
    {
     "name": "stdout",
     "output_type": "stream",
     "text": [
      "대림대 스포츠재활학과 전망이 어떤가요? https://kin.naver.com/qna/detail.naver?d1id=5&dirId=51002&docId=474884125&qb=64yA66a864yA&enc=utf8§ion=kin.qna_ency&rank=1&search_sort=0&spq=0 2024.09.09. 스포츠경기 2\n",
      "대림대 제과제빵과는 커피도 배울 수...  https://kin.naver.com/qna/detail.naver?d1id=11&dirId=110704&docId=473995852&qb=64yA66a864yA&enc=utf8§ion=kin.qna_ency&rank=2&search_sort=0&spq=0 2024.08.15. 직업교육 2\n",
      "대림대 언어치료학과는 몇 년 과정인가요? https://kin.naver.com/qna/detail.naver?d1id=11&dirId=110408&docId=472594005&qb=64yA66a864yA&enc=utf8§ion=kin.qna_ency&rank=3&search_sort=0&spq=0 2024.07.17. 대학 입시, 진학 3\n",
      "대림대 스포츠재활학부 수시 면접 보나요? https://kin.naver.com/qna/detail.naver?d1id=11&dirId=110408&docId=473888987&qb=64yA66a864yA&enc=utf8§ion=kin.qna_ency&rank=4&search_sort=0&spq=0 2024.08.13. 대학 입시, 진학 1\n",
      "대림대 제과제빵 https://kin.naver.com/qna/detail.naver?d1id=4&dirId=40606&docId=473272482&qb=64yA66a864yA&enc=utf8§ion=kin.qna_ency&rank=5&search_sort=0&spq=0 2024.07.31. 관광, 요식업, 스포츠 1\n",
      "대림대 언어치료학과 치료 실습 시설...  https://kin.naver.com/qna/detail.naver?d1id=11&dirId=110408&docId=473316057&qb=64yA66a864yA&enc=utf8§ion=kin.qna_ency&rank=6&search_sort=0&spq=0 2024.08.01. 대학 입시, 진학 2\n",
      "대림대 유아교육과 https://kin.naver.com/qna/detail.naver?d1id=11&dirId=110102&docId=475728162&qb=64yA66a864yA&enc=utf8§ion=kin.qna_ency&rank=7&search_sort=0&spq=0 2024.09.23. 유아교육기관 2\n",
      "대림대 스포츠재활학부 가면 어떤 자격증...  https://kin.naver.com/qna/detail.naver?d1id=11&dirId=110408&docId=472818078&qb=64yA66a864yA&enc=utf8§ion=kin.qna_ency&rank=8&search_sort=0&spq=0 2024.07.22. 대학 입시, 진학 4\n",
      "대림대 언어치료학과는 2년 과정인가요? https://kin.naver.com/qna/detail.naver?d1id=11&dirId=110408&docId=474590235&qb=64yA66a864yA&enc=utf8§ion=kin.qna_ency&rank=9&search_sort=0&spq=0 2024.08.28. 대학 입시, 진학 2\n",
      "대림대 사무행정학과가면 어떤 자격증을...  https://kin.naver.com/qna/detail.naver?d1id=11&dirId=11050402&docId=472992436&qb=64yA66a864yA&enc=utf8§ion=kin.qna_ency&rank=10&search_sort=0&spq=0 2024.07.25. 사회과학대학 2\n",
      "대림대 미래자동차학부 학과 분위기는...  https://kin.naver.com/qna/detail.naver?d1id=11&dirId=110504&docId=473316163&qb=64yA66a864yA&enc=utf8§ion=kin.qna_ency&rank=11&search_sort=0&spq=0 2024.08.01. 대학학과정보 2\n",
      "대림대 호텔조리과 졸업 후 프랑스...  https://kin.naver.com/qna/detail.naver?d1id=11&dirId=110603&docId=475267483&qb=64yA66a864yA&enc=utf8§ion=kin.qna_ency&rank=12&search_sort=0&spq=0 2024.09.12. 워킹홀리데이, 해외인턴쉽 4\n",
      "대림대 바이오헬스케어과는 어떤 직업과...  https://kin.naver.com/qna/detail.naver?d1id=11&dirId=110408&docId=472547360&qb=64yA66a864yA&enc=utf8§ion=kin.qna_ency&rank=13&search_sort=0&spq=0 2024.07.16. 대학 입시, 진학 1\n",
      "대림대 복수지원 가능한가요? https://kin.naver.com/qna/detail.naver?d1id=11&dirId=110408&docId=475195553&qb=64yA66a864yA&enc=utf8§ion=kin.qna_ency&rank=14&search_sort=0&spq=0 2024.09.11. 대학 입시, 진학 1\n",
      "대림대 미래자동차학과 가고 싶은데 뭘...  https://kin.naver.com/qna/detail.naver?d1id=11&dirId=110408&docId=474590340&qb=64yA66a864yA&enc=utf8§ion=kin.qna_ency&rank=15&search_sort=0&spq=0 2024.08.29. 대학 입시, 진학 4\n",
      "대림대 유아교육과 지원하고 싶은데...  https://kin.naver.com/qna/detail.naver?d1id=11&dirId=11050402&docId=472695741&qb=64yA66a864yA&enc=utf8§ion=kin.qna_ency&rank=16&search_sort=0&spq=0 2024.07.19. 사회과학대학 3\n",
      "대림대 스포츠재활학과 인식이나...  https://kin.naver.com/qna/detail.naver?d1id=11&dirId=11050404&docId=474403977&qb=64yA66a864yA&enc=utf8§ion=kin.qna_ency&rank=17&search_sort=0&spq=0 2024.09.11. 기술과학대학 3\n",
      "대림대 스포츠재활학부 운동 특기 없이...  https://kin.naver.com/qna/detail.naver?d1id=11&dirId=110408&docId=473588686&qb=64yA66a864yA&enc=utf8§ion=kin.qna_ency&rank=18&search_sort=0&spq=0 2024.08.07. 대학 입시, 진학 2\n",
      "대림대 바이오헬스케어과는 졸업 후...  https://kin.naver.com/qna/detail.naver?d1id=11&dirId=110408&docId=473588548&qb=64yA66a864yA&enc=utf8§ion=kin.qna_ency&rank=19&search_sort=0&spq=0 2024.08.07. 대학 입시, 진학 4\n",
      "대림대 자동차학과 합격 할 수 있을까요? https://kin.naver.com/qna/detail.naver?d1id=11&dirId=110408&docId=475297059&qb=64yA66a864yA&enc=utf8§ion=kin.qna_ency&rank=20&search_sort=0&spq=0 2024.09.13. 대학 입시, 진학 1\n",
      "나사렛대vs백석대vs대림대 https://kin.naver.com/qna/detail.naver?d1id=11&dirId=11050402&docId=463269412&qb=64yA66a864yA&enc=utf8§ion=kin.qna_ency&rank=21&search_sort=0&spq=0 2024.07.08. 사회과학대학 5\n",
      "대림대 스포츠재활학부에 골프 특화...  https://kin.naver.com/qna/detail.naver?d1id=11&dirId=110408&docId=474252528&qb=64yA66a864yA&enc=utf8§ion=kin.qna_ency&rank=22&search_sort=0&spq=0 2024.08.21. 대학 입시, 진학 3\n",
      "대림대 건축과 남녀비율이 어떻게 되나요? https://kin.naver.com/qna/detail.naver?d1id=11&dirId=110504&docId=473200887&qb=64yA66a864yA&enc=utf8§ion=kin.qna_ency&rank=23&search_sort=0&spq=0 2024.07.30. 대학학과정보 1\n",
      "유아교육과 대림대vs서일대vs재능대vs...  https://kin.naver.com/qna/detail.naver?d1id=11&dirId=11050401&docId=475290998&qb=64yA66a864yA&enc=utf8§ion=kin.qna_ency&rank=24&search_sort=0&spq=0 2024.09.13. 인문과학대학 3\n",
      "대림대 유아교육과 다니시는 분 어떤가요? https://kin.naver.com/qna/detail.naver?d1id=11&dirId=110103&docId=474170787&qb=64yA66a864yA&enc=utf8§ion=kin.qna_ency&rank=25&search_sort=0&spq=0 2024.08.19. 유아교육제도 3\n",
      "대림대 스포츠재활학부 졸업 후 필라테스...  https://kin.naver.com/qna/detail.naver?d1id=7&dirId=70702&docId=475249751&qb=64yA66a864yA&enc=utf8§ion=kin.qna_ency&rank=26&search_sort=0&spq=0 2024.09.12. 요가, 필라테스 3\n",
      "대림대 미래자동차학부는 졸업 후 어디에...  https://kin.naver.com/qna/detail.naver?d1id=11&dirId=110408&docId=472547324&qb=64yA66a864yA&enc=utf8§ion=kin.qna_ency&rank=27&search_sort=0&spq=0 2024.07.16. 대학 입시, 진학 2\n",
      "대림대 스포츠재활과에 들어가려면...  https://kin.naver.com/qna/detail.naver?d1id=11&dirId=110408&docId=472547421&qb=64yA66a864yA&enc=utf8§ion=kin.qna_ency&rank=28&search_sort=0&spq=0 2024.07.16. 대학 입시, 진학 6\n",
      "대림대 바이오헬스케어과가 궁금합니다. https://kin.naver.com/qna/detail.naver?d1id=11&dirId=11050403&docId=473316368&qb=64yA66a864yA&enc=utf8§ion=kin.qna_ency&rank=29&search_sort=0&spq=0 2024.08.01. 자연과학대학 2\n",
      "대림대에서 편입할 수 있는 대학 https://kin.naver.com/qna/detail.naver?d1id=11&dirId=110408&docId=459141380&qb=64yA66a864yA&enc=utf8§ion=kin.qna_ency&rank=30&search_sort=0&spq=0 2023.11.24. 대학 입시, 진학 20\n",
      "대림대 AI시스템과와 관련된 자격증은...  https://kin.naver.com/qna/detail.naver?d1id=11&dirId=110408&docId=474728522&qb=64yA66a864yA&enc=utf8§ion=kin.qna_ency&rank=31&search_sort=0&spq=0 2024.08.31. 대학 입시, 진학 3\n",
      "대림대, 안산대, 루터대 언어치료학과...  https://kin.naver.com/qna/detail.naver?d1id=11&dirId=110408&docId=475249378&qb=64yA66a864yA&enc=utf8§ion=kin.qna_ency&rank=32&search_sort=0&spq=0 2024.09.12. 대학 입시, 진학 3\n",
      "대림대 유한대 https://kin.naver.com/qna/detail.naver?d1id=11&dirId=110408&docId=470118176&qb=64yA66a864yA&enc=utf8§ion=kin.qna_ency&rank=33&search_sort=0&spq=0 2024.05.25. 대학 입시, 진학 6\n",
      "대림대 건축과가려는데 여기 어때요? https://kin.naver.com/qna/detail.naver?d1id=11&dirId=1126&docId=449972547&qb=64yA66a864yA&enc=utf8§ion=kin.qna_ency&rank=34&search_sort=0&spq=0 2023.07.13. 기계공학 1\n",
      "대림대 스포츠재활학부는 어떤 시설이...  https://kin.naver.com/qna/detail.naver?d1id=11&dirId=110408&docId=473106934&qb=64yA66a864yA&enc=utf8§ion=kin.qna_ency&rank=35&search_sort=0&spq=0 2024.07.28. 대학 입시, 진학 4\n",
      "한세대 대림대 https://kin.naver.com/qna/detail.naver?d1id=11&dirId=110408&docId=474788945&qb=64yA66a864yA&enc=utf8§ion=kin.qna_ency&rank=36&search_sort=0&spq=0 2024.09.02. 대학 입시, 진학 1\n",
      "대림대 정시 미래자동차학과 https://kin.naver.com/qna/detail.naver?d1id=11&dirId=11050404&docId=460456757&qb=64yA66a864yA&enc=utf8§ion=kin.qna_ency&rank=37&search_sort=0&spq=0 2023.12.15. 기술과학대학 1\n",
      "오산대 대림대 연성대 https://kin.naver.com/qna/detail.naver?d1id=11&dirId=11050401&docId=456551571&qb=64yA66a864yA&enc=utf8§ion=kin.qna_ency&rank=38&search_sort=0&spq=0 2023.10.16. 인문과학대학 7\n",
      "대림대 제제과 4.9등급 https://kin.naver.com/qna/detail.naver?d1id=6&dirId=6100101&docId=454195262&qb=64yA66a864yA&enc=utf8§ion=kin.qna_ency&rank=39&search_sort=0&spq=0 2023.09.08. 국민기초생활보장 1\n",
      "대림대 유한대 제과제빵 쪽 괜찮나요? https://kin.naver.com/qna/detail.naver?d1id=11&dirId=110408&docId=454945942&qb=64yA66a864yA&enc=utf8§ion=kin.qna_ency&rank=40&search_sort=0&spq=0 2023.09.19. 대학 입시, 진학 5\n",
      "대림대 스포츠지도과 실기 보나요? https://kin.naver.com/qna/detail.naver?d1id=5&dirId=509&docId=473402259&qb=64yA66a864yA&enc=utf8§ion=kin.qna_ency&rank=41&search_sort=0&spq=0 2024.08.03. 스포츠, 레저용품 1\n",
      "대림대 제과제빵커피과 https://kin.naver.com/qna/detail.naver?d1id=11&dirId=110504&docId=465653381&qb=64yA66a864yA&enc=utf8§ion=kin.qna_ency&rank=42&search_sort=0&spq=0 2024.04.22. 대학학과정보 5\n",
      "연성대나 대림대 갈 수 있을까요 https://kin.naver.com/qna/detail.naver?d1id=11&dirId=110408&docId=431615753&qb=64yA66a864yA&enc=utf8§ion=kin.qna_ency&rank=43&search_sort=0&spq=0 2022.10.30. 대학 입시, 진학 2\n",
      "대림대 방송음향기술과 내신 https://kin.naver.com/qna/detail.naver?d1id=11&dirId=11050404&docId=468613723&qb=64yA66a864yA&enc=utf8§ion=kin.qna_ency&rank=44&search_sort=0&spq=0 2024.04.24. 기술과학대학 2\n",
      "대림대 입학식 스쿨버스 https://kin.naver.com/qna/detail.naver?d1id=11&dirId=110602&docId=463921102&qb=64yA66a864yA&enc=utf8§ion=kin.qna_ency&rank=45&search_sort=0&spq=0 2024.02.08. 정규유학 1\n",
      "대림대 사무행정학과 https://kin.naver.com/qna/detail.naver?d1id=11&dirId=11050402&docId=455659845&qb=64yA66a864yA&enc=utf8§ion=kin.qna_ency&rank=46&search_sort=0&spq=0 2023.09.30. 사회과학대학 5\n",
      "대림대 경영학과 https://kin.naver.com/qna/detail.naver?d1id=4&dirId=40405&docId=448926876&qb=64yA66a864yA&enc=utf8§ion=kin.qna_ency&rank=47&search_sort=0&spq=0 2023.06.27. 경영정보시스템 4\n",
      "대림대 바이오헬스케어과는 운동 관련...  https://kin.naver.com/qna/detail.naver?d1id=11&dirId=110408&docId=472818002&qb=64yA66a864yA&enc=utf8§ion=kin.qna_ency&rank=48&search_sort=0&spq=0 2024.07.22. 대학 입시, 진학 2\n",
      "대림대 휴학 취소 가능한가요?? https://kin.naver.com/qna/detail.naver?d1id=11&dirId=110503&docId=474327105&qb=64yA66a864yA&enc=utf8§ion=kin.qna_ency&rank=49&search_sort=0&spq=0 2024.08.22. 학사 행정, 제도 3\n",
      "대림대 면접 교복 https://kin.naver.com/qna/detail.naver?d1id=11&dirId=11050404&docId=456046555&qb=64yA66a864yA&enc=utf8§ion=kin.qna_ency&rank=50&search_sort=0&spq=0 2023.10.06. 기술과학대학 1\n"
     ]
    }
   ],
   "source": [
    "page = int(input(\"몇 페이지까지 크롤링 할까요? \"))\n",
    "\n",
    "for i in range(1, page + 1):\n",
    "    response = requests.get(f\"https://kin.naver.com/search/list.naver?query=대림대&page={i}\")\n",
    "    html = response.text\n",
    "    soup = BeautifulSoup(html, 'html.parser')\n",
    "    posts = soup.select(\".basic1 > li\")\n",
    "\n",
    "    for post in posts:\n",
    "        title = post.select_one(\"._nclicks\\\\:kin\\\\.txt\").text\n",
    "        link = post.select_one(\"._nclicks\\\\:kin\\\\.txt\").attrs['href']\n",
    "        date = post.select_one(\".txt_inline\").text\n",
    "        category = post.select_one(\".txt_block > a:nth-of-type(2)\").text\n",
    "        answerCount = post.select_one(\".txt_block > span:nth-of-type(2)\").text.split(\"답변수\")[1].strip()\n",
    "        print(title, link, date, category, answerCount)"
   ]
  },
  {
   "cell_type": "code",
   "execution_count": null,
   "metadata": {},
   "outputs": [],
   "source": [
    "import pandas as pd\n",
    "\n",
    "data = []\n",
    "\n",
    "page = int(input(\"몇 페이지까지 크롤링 할까요? \"))\n",
    "\n",
    "for i in range(1, page + 1):\n",
    "    response = requests.get(f\"https://kin.naver.com/search/list.naver?query=대림대&page={i}\")\n",
    "    html = response.text\n",
    "    soup = BeautifulSoup(html, 'html.parser')\n",
    "    posts = soup.select(\".basic1 > li\")\n",
    "\n",
    "    for post in posts:\n",
    "        title = post.select_one(\"._nclicks\\\\:kin\\\\.txt\").text\n",
    "        link = post.select_one(\"._nclicks\\\\:kin\\\\.txt\").attrs['href']\n",
    "        date = post.select_one(\".txt_inline\").text\n",
    "        category = post.select_one(\".txt_block > a:nth-of-type(2)\").text\n",
    "        answerCount = post.select_one(\".txt_block > span:nth-of-type(2)\").text.split(\"답변수\")[1].strip()\n",
    "        data.append([title, link, date, category, answerCount])\n",
    "\n",
    "df = pd.DataFrame(data, columns=[\"제목\", \"링크\", \"날짜\", \"카테고리\", \"답변수\"])\n",
    "df.to_excel(\".xlsx\", index=False)"
   ]
  }
 ],
 "metadata": {
  "kernelspec": {
   "display_name": "venv",
   "language": "python",
   "name": "python3"
  },
  "language_info": {
   "codemirror_mode": {
    "name": "ipython",
    "version": 3
   },
   "file_extension": ".py",
   "mimetype": "text/x-python",
   "name": "python",
   "nbconvert_exporter": "python",
   "pygments_lexer": "ipython3",
   "version": "3.12.3"
  }
 },
 "nbformat": 4,
 "nbformat_minor": 2
}
